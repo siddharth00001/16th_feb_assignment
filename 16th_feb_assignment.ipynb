{
 "cells": [
  {
   "cell_type": "markdown",
   "id": "e1d169ff-6297-443b-9a8d-d0f57e51e3ee",
   "metadata": {},
   "source": [
    "## Q1"
   ]
  },
  {
   "cell_type": "markdown",
   "id": "2c112644-1c03-432e-acb3-a8cbb5d6edc0",
   "metadata": {},
   "source": [
    "Database is the organized collection of structured information, or data, typically stored electronically in a computer system.\n",
    "1) Sql is a type of database in which the data is stored in the form of rows and cols. In this type of database while inserting data we have to take into account the cols of database.\n",
    "2) NoSQL stands for not only sql in this data is stored in the form of document and we don't need to take into account the format of data being stored. The data is stored in key value format."
   ]
  },
  {
   "cell_type": "markdown",
   "id": "1494d231-a3d0-47c0-abda-3b81a095c085",
   "metadata": {},
   "source": [
    "## Q2"
   ]
  },
  {
   "cell_type": "markdown",
   "id": "7c023a37-1ee2-4520-b406-2cf0af5fd56b",
   "metadata": {},
   "source": [
    "A data definition language (DDL) is a computer language used to create and modify the structure of database objects in a database. These database objects include views, schemas, tables, indexes, etc."
   ]
  },
  {
   "cell_type": "markdown",
   "id": "4394bac3-e913-4f30-99cb-ef4d85415a5c",
   "metadata": {},
   "source": [
    "Create command is used to create the table inside database it can be used along database as well to create database\n",
    "The following syntax can be used to create it\n",
    "1) create table persons (person_id int, LastName varchar(255),FirstName varchar(255),Address varchar(255),City varchar(255))"
   ]
  },
  {
   "cell_type": "markdown",
   "id": "805a8176-d2a8-4d77-9e67-b6db3ce5e3b5",
   "metadata": {},
   "source": [
    "Drop command is used to drop the table records along with structure of table.\n",
    "syntax for the same is \n",
    "1) drop table [Table Name];"
   ]
  },
  {
   "cell_type": "markdown",
   "id": "42514371-04bc-4242-bfc7-4dcad4f4779e",
   "metadata": {},
   "source": [
    "Alter Table command is used to alter the exsisting records or structure of the table already exsists.\n",
    "1) ALTER TABLE product \n",
    "2) DROP COLUMN description;"
   ]
  },
  {
   "cell_type": "markdown",
   "id": "c2d0705c-8847-4b3f-b2c9-9f20d1f02a35",
   "metadata": {},
   "source": [
    "Truncate table is used to truncate all the records inside table.\n",
    "syntax for the same is:\n",
    "1) TRUNCATE TABLE table_name;"
   ]
  },
  {
   "cell_type": "markdown",
   "id": "ee947d1f-3c3a-4d89-a273-b21343876ea6",
   "metadata": {},
   "source": [
    "## Q3"
   ]
  },
  {
   "cell_type": "markdown",
   "id": "ef4cda15-b6c2-4dc8-a201-fc087f437698",
   "metadata": {},
   "source": [
    "DML stands for data manipulation Language It includes insert,update and delete etc."
   ]
  },
  {
   "cell_type": "markdown",
   "id": "41dfdd8f-a93d-49c9-805e-6eb759c70852",
   "metadata": {},
   "source": [
    "Insert command is used to insert the values inside the table. syntax is following:-\n",
    "1) Insert into tablename values(data1,data2,data3)"
   ]
  },
  {
   "cell_type": "markdown",
   "id": "f9ff46f9-7184-42ff-b11c-33d57c238a18",
   "metadata": {},
   "source": [
    "update command is used to update the data inside the table synatx for the same is :-\n",
    "1) UPDATE Customers  SET ContactName = 'Alfred Schmidt', City = 'Frankfurt' WHERE CustomerID = 1;"
   ]
  },
  {
   "cell_type": "markdown",
   "id": "e90f2910-6014-4da7-8fc3-6af3e9c82f64",
   "metadata": {},
   "source": [
    "delete command is used to delete records from the table, syntax for same is :-\n",
    "1) DELETE FROM table_name WHERE condition;"
   ]
  },
  {
   "cell_type": "markdown",
   "id": "e02c4b69-53c9-45f3-89e2-9e1060f9fcd2",
   "metadata": {},
   "source": [
    "## Q4"
   ]
  },
  {
   "cell_type": "markdown",
   "id": "5e7f72dd-36c5-407d-9dcf-c30afb1c7ef2",
   "metadata": {},
   "source": [
    "dql stands for data query language it is used to retrieve data from table."
   ]
  },
  {
   "cell_type": "markdown",
   "id": "279131e0-f926-489f-a40c-f81cb6641626",
   "metadata": {},
   "source": [
    "Select * from table1 where condition1 = 'value';\n",
    "This select command is used to retrieve all records from table."
   ]
  },
  {
   "cell_type": "markdown",
   "id": "c5e6a59c-8386-4b85-b28d-29e3ad80a694",
   "metadata": {},
   "source": [
    "## Q5"
   ]
  },
  {
   "cell_type": "markdown",
   "id": "9e23be52-2bfc-4551-8121-58a7dc6e7a10",
   "metadata": {},
   "source": [
    "Primary key is used to define a col as unique and not null which will be different for every record."
   ]
  },
  {
   "cell_type": "markdown",
   "id": "cc3fd91f-5450-4a11-994a-177ebfa2ca6a",
   "metadata": {},
   "source": [
    "A FOREIGN KEY is a field (or collection of fields) in one table, that refers to the PRIMARY KEY in another table.The table with the foreign key is called the child table, and the table with the primary key is called the referenced or parent table."
   ]
  },
  {
   "cell_type": "markdown",
   "id": "17aed990-d999-4841-8c2b-484980190d9b",
   "metadata": {},
   "source": [
    "ALTER TABLE table2\n",
    "ADD FOREIGN KEY (col1) REFERENCES table1(col1);"
   ]
  },
  {
   "cell_type": "markdown",
   "id": "6b5d3588-a01c-4b03-b3b1-cc7885da2aa4",
   "metadata": {},
   "source": [
    "## Q6"
   ]
  },
  {
   "cell_type": "markdown",
   "id": "1bd90bf9-e8ce-475f-aaee-5c9797f0e65d",
   "metadata": {},
   "source": [
    "##### import mysql.connector\n",
    "#####\n",
    "##### mydb = mysql.connector.connect(\n",
    "#####    'host':'yourhost',\n",
    "#####    'user':'username',\n",
    "#####   'password':'password'\n",
    "##### )\n",
    "##### print(mydb)"
   ]
  },
  {
   "cell_type": "markdown",
   "id": "620c6600-7341-42bb-9e4a-8c4ef432c080",
   "metadata": {},
   "source": [
    "#### once the connection is established we can use cursor and execute to execute the command\n",
    "##### cursor = mydb.cursor()\n",
    "##### cursor.execute('select * from table1')"
   ]
  },
  {
   "cell_type": "markdown",
   "id": "b77401f1-8632-41c9-bbb9-348942addbde",
   "metadata": {},
   "source": [
    "## Q7"
   ]
  },
  {
   "cell_type": "markdown",
   "id": "2facb4e0-85d7-4f19-a449-3475d7edd7d0",
   "metadata": {},
   "source": [
    "#### The order for following query is\n",
    "'select * from table1 where condition1=\"name1\" group by col2 having cond2 order by col1 '\n",
    "#### The execution order will be \n",
    "#### FROM clause\n",
    "#### WHERE clause\n",
    "#### SELECT clause\n",
    "#### GROUP BY clause\n",
    "#### HAVING clause\n",
    "#### ORDER BY clause"
   ]
  }
 ],
 "metadata": {
  "kernelspec": {
   "display_name": "Python 3 (ipykernel)",
   "language": "python",
   "name": "python3"
  },
  "language_info": {
   "codemirror_mode": {
    "name": "ipython",
    "version": 3
   },
   "file_extension": ".py",
   "mimetype": "text/x-python",
   "name": "python",
   "nbconvert_exporter": "python",
   "pygments_lexer": "ipython3",
   "version": "3.10.8"
  }
 },
 "nbformat": 4,
 "nbformat_minor": 5
}
